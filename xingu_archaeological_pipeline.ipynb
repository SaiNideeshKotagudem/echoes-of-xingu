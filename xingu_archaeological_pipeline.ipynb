{
 "cells": [
  {
   "cell_type": "markdown",
   "id": "81a6851b",
   "metadata": {},
   "source": [
    "# Archaeological Site Discovery Pipeline\n",
    "\n",
    "This notebook demonstrates the complete pipeline for discovering archaeological sites in the Upper Xingu region using AI and satellite imagery.\n",
    "\n",
    "## Setup and Initialization"
   ]
  },
  {
   "cell_type": "code",
   "execution_count": null,
   "id": "4b33a12a",
   "metadata": {},
   "outputs": [],
   "source": [
    "import os\n",
    "from pathlib import Path\n",
    "import torch\n",
    "import matplotlib.pyplot as plt\n",
    "import seaborn as sns\n",
    "from src.pipeline import Pipeline\n",
    "import logging\n",
    "import json\n",
    "\n",
    "# Configure logging\n",
    "logging.basicConfig(level=logging.INFO)\n",
    "\n",
    "# Initialize pipeline\n",
    "pipeline = Pipeline('configs/config.json')"
   ]
  },
  {
   "cell_type": "markdown",
   "id": "f8eaf4db",
   "metadata": {},
   "source": [
    "# Xingu Archaeological Site Detection Pipeline\n",
    "\n",
    "This notebook implements the archaeological site detection pipeline using satellite imagery and historical data analysis."
   ]
  },
  {
   "cell_type": "code",
   "execution_count": null,
   "id": "37ffb3ce",
   "metadata": {},
   "outputs": [],
   "source": [
    "import sys\n",
    "import os\n",
    "from pathlib import Path\n",
    "sys.path.append('..')\n",
    "\n",
    "import torch\n",
    "import numpy as np\n",
    "import geopandas as gpd\n",
    "from src.pipeline import Pipeline\n",
    "from src.visualization import ArchaeologicalVisualizer\n",
    "import matplotlib.pyplot as plt\n",
    "%matplotlib inline"
   ]
  },
  {
   "cell_type": "markdown",
   "id": "f61b4108",
   "metadata": {},
   "source": [
    "## 1. Initialize Pipeline\n",
    "\n",
    "Load configuration and set up the pipeline components."
   ]
  },
  {
   "cell_type": "code",
   "execution_count": null,
   "id": "b9b63cbc",
   "metadata": {},
   "outputs": [],
   "source": [
    "# Initialize pipeline\n",
    "pipeline = Pipeline('configs/config.json')\n",
    "visualizer = ArchaeologicalVisualizer()"
   ]
  },
  {
   "cell_type": "markdown",
   "id": "32cb213d",
   "metadata": {},
   "source": [
    "## 2. Data Collection and Processing\n",
    "\n",
    "Collect satellite imagery and historical data for the study area."
   ]
  },
  {
   "cell_type": "code",
   "execution_count": null,
   "id": "e787e957",
   "metadata": {},
   "outputs": [],
   "source": [
    "# Run the pipeline\n",
    "validated_sites, visualization_results = pipeline.run()"
   ]
  },
  {
   "cell_type": "markdown",
   "id": "f37a3cb9",
   "metadata": {},
   "source": [
    "## 3. Visualize Results\n",
    "\n",
    "Create interactive visualizations of detected archaeological sites."
   ]
  },
  {
   "cell_type": "code",
   "execution_count": null,
   "id": "a98815f1",
   "metadata": {},
   "outputs": [],
   "source": [
    "# Display Kepler.gl map\n",
    "visualization_results['kepler_map']"
   ]
  },
  {
   "cell_type": "markdown",
   "id": "06e6a5f5",
   "metadata": {},
   "source": [
    "## 4. Analyze Site Distribution\n",
    "\n",
    "Analyze the spatial distribution of detected sites."
   ]
  },
  {
   "cell_type": "code",
   "execution_count": null,
   "id": "d723c660",
   "metadata": {},
   "outputs": [],
   "source": [
    "# Plot site distribution\n",
    "fig, ax = plt.subplots(figsize=(12, 8))\n",
    "validated_sites.plot(ax=ax, column='probability', cmap='viridis',\n",
    "                    legend=True, legend_kwds={'label': 'Detection Probability'})\n",
    "ax.set_title('Archaeological Site Distribution')\n",
    "plt.show()"
   ]
  },
  {
   "cell_type": "markdown",
   "id": "74b4efdf",
   "metadata": {},
   "source": [
    "# Echoes of the Xingu: AI-Powered Discovery of Lost Amazonian Urbanism\n",
    "\n",
    "This notebook demonstrates the complete workflow for discovering archaeological sites in the Upper Xingu River Basin using satellite imagery, LIDAR data, and historical records."
   ]
  },
  {
   "cell_type": "code",
   "execution_count": null,
   "id": "2ce01ca4",
   "metadata": {},
   "outputs": [],
   "source": [
    "import os\n",
    "import sys\n",
    "from pathlib import Path\n",
    "\n",
    "# Add src directory to path\n",
    "src_dir = Path('../src').resolve()\n",
    "sys.path.append(str(src_dir))\n",
    "\n",
    "# Import project modules\n",
    "from pipeline import Pipeline\n",
    "from config import ConfigManager\n",
    "from visualization import ArchaeologicalVisualizer"
   ]
  },
  {
   "cell_type": "markdown",
   "id": "6f96c063",
   "metadata": {},
   "source": [
    "## 1. Configuration and Setup\n",
    "\n",
    "Load configuration and initialize the pipeline"
   ]
  },
  {
   "cell_type": "code",
   "execution_count": null,
   "id": "b7392152",
   "metadata": {},
   "outputs": [],
   "source": [
    "# Initialize pipeline\n",
    "config_path = '../configs/config.json'\n",
    "pipeline = Pipeline(config_path)\n",
    "\n",
    "print(\"Pipeline initialized with study area:\")\n",
    "print(pipeline.config_manager.get_study_area())"
   ]
  },
  {
   "cell_type": "markdown",
   "id": "63d1f292",
   "metadata": {},
   "source": [
    "## 2. Data Collection\n",
    "\n",
    "Fetch satellite imagery and historical data"
   ]
  },
  {
   "cell_type": "code",
   "execution_count": null,
   "id": "f33af460",
   "metadata": {},
   "outputs": [],
   "source": [
    "# Collect satellite data\n",
    "satellite_data = pipeline._collect_satellite_data()\n",
    "\n",
    "print(\"\\nSatellite data sources:\")\n",
    "for source, data in satellite_data.items():\n",
    "    print(f\"{source}: {data['metadata']['date']} (Cloud cover: {data['metadata']['cloud_cover']}%)\")"
   ]
  },
  {
   "cell_type": "code",
   "execution_count": null,
   "id": "f25f65e5",
   "metadata": {},
   "outputs": [],
   "source": [
    "# Process historical texts\n",
    "historical_data = pipeline._process_historical_data()\n",
    "\n",
    "print(\"\\nProcessed historical data:\")\n",
    "for data_type, items in historical_data.items():\n",
    "    print(f\"{data_type}: {len(items)} items processed\")"
   ]
  },
  {
   "cell_type": "markdown",
   "id": "db1446d9",
   "metadata": {},
   "source": [
    "## 3. Data Preprocessing\n",
    "\n",
    "Prepare data for model input"
   ]
  },
  {
   "cell_type": "code",
   "execution_count": null,
   "id": "a68f68a0",
   "metadata": {},
   "outputs": [],
   "source": [
    "# Preprocess collected data\n",
    "processed_data = pipeline._preprocess_data(satellite_data, historical_data)\n",
    "\n",
    "print(\"\\nPreprocessed data shapes:\")\n",
    "for source, data in processed_data['satellite'].items():\n",
    "    print(f\"{source}: {data['data'].shape}\")"
   ]
  },
  {
   "cell_type": "markdown",
   "id": "ff5f5d31",
   "metadata": {},
   "source": [
    "## 4. Model Predictions\n",
    "\n",
    "Run archaeological site detection model"
   ]
  },
  {
   "cell_type": "code",
   "execution_count": null,
   "id": "7253d1b4",
   "metadata": {},
   "outputs": [],
   "source": [
    "# Run model predictions\n",
    "site_predictions = pipeline._run_model_predictions(processed_data)\n",
    "\n",
    "print(f\"\\nIdentified {len(site_predictions)} potential archaeological sites\")\n",
    "site_predictions.head()"
   ]
  },
  {
   "cell_type": "markdown",
   "id": "d8418eee",
   "metadata": {},
   "source": [
    "## 5. Validation\n",
    "\n",
    "Validate predictions using hydrological and settlement pattern analysis"
   ]
  },
  {
   "cell_type": "code",
   "execution_count": null,
   "id": "80f1075f",
   "metadata": {},
   "outputs": [],
   "source": [
    "# Validate predictions\n",
    "validated_sites = pipeline._validate_predictions(site_predictions)\n",
    "\n",
    "print(f\"\\nValidated {len(validated_sites)} sites out of {len(site_predictions)} predictions\")\n",
    "validated_sites.head()"
   ]
  },
  {
   "cell_type": "markdown",
   "id": "0d7e329a",
   "metadata": {},
   "source": [
    "## 6. Visualization\n",
    "\n",
    "Create interactive visualizations of the results"
   ]
  },
  {
   "cell_type": "code",
   "execution_count": null,
   "id": "1832b5c3",
   "metadata": {},
   "outputs": [],
   "source": [
    "# Create visualizations\n",
    "visualization_results = pipeline._create_visualizations(\n",
    "    validated_sites,\n",
    "    processed_data,\n",
    "    historical_data\n",
    ")\n",
    "\n",
    "# Display Kepler.gl map\n",
    "visualization_results['kepler_map']"
   ]
  },
  {
   "cell_type": "code",
   "execution_count": null,
   "id": "905074c0",
   "metadata": {},
   "outputs": [],
   "source": [
    "# Display temporal visualization\n",
    "visualization_results['temporal_vis']"
   ]
  },
  {
   "cell_type": "markdown",
   "id": "8dab95ff",
   "metadata": {},
   "source": [
    "## 7. Save Results\n",
    "\n",
    "Save validated sites and visualizations"
   ]
  },
  {
   "cell_type": "code",
   "execution_count": null,
   "id": "166367f4",
   "metadata": {},
   "outputs": [],
   "source": [
    "# Save all results\n",
    "pipeline._save_results(validated_sites, visualization_results)\n",
    "\n",
    "print(\"\\nResults saved to:\")\n",
    "print(f\"- Validated sites: {Path('../data/outputs/validated_sites.geojson')}\")\n",
    "print(f\"- Visualizations: {Path('../data/outputs/visualizations/')}\")"
   ]
  },
  {
   "cell_type": "markdown",
   "id": "3a2bf6fb",
   "metadata": {},
   "source": [
    "## Data Collection and Preprocessing\n",
    "\n",
    "First, let's collect and preprocess the satellite imagery and historical data."
   ]
  },
  {
   "cell_type": "code",
   "execution_count": null,
   "id": "cc41f4c1",
   "metadata": {},
   "outputs": [],
   "source": [
    "# Process data sources\n",
    "satellite_data = pipeline._collect_satellite_data()\n",
    "historical_data = pipeline._process_historical_data()\n",
    "processed_data = pipeline._preprocess_data(satellite_data, historical_data)\n",
    "\n",
    "print(\"Data collection and preprocessing completed!\")"
   ]
  },
  {
   "cell_type": "markdown",
   "id": "567a1389",
   "metadata": {},
   "source": [
    "## Model Training\n",
    "\n",
    "Now we'll train the archaeological site detection model using the preprocessed data."
   ]
  },
  {
   "cell_type": "code",
   "execution_count": null,
   "id": "083e2e46",
   "metadata": {},
   "outputs": [],
   "source": [
    "# Train the model\n",
    "pipeline.train_model()\n",
    "\n",
    "# Load and plot training metrics\n",
    "with open('results/training_metrics.json', 'r') as f:\n",
    "    metrics = json.load(f)\n",
    "\n",
    "# Plot training curves\n",
    "fig, (ax1, ax2) = plt.subplots(1, 2, figsize=(15, 5))\n",
    "\n",
    "# Loss curves\n",
    "ax1.plot(metrics['train_loss'], label='Train Loss')\n",
    "ax1.plot(metrics['val_loss'], label='Validation Loss')\n",
    "ax1.set_title('Training and Validation Loss')\n",
    "ax1.set_xlabel('Epoch')\n",
    "ax1.set_ylabel('Loss')\n",
    "ax1.legend()\n",
    "\n",
    "# IoU curves\n",
    "ax2.plot(metrics['train_iou'], label='Train IoU')\n",
    "ax2.plot(metrics['val_iou'], label='Validation IoU')\n",
    "ax2.set_title('Training and Validation IoU')\n",
    "ax2.set_xlabel('Epoch')\n",
    "ax2.set_ylabel('IoU')\n",
    "ax2.legend()\n",
    "\n",
    "plt.tight_layout()\n",
    "plt.show()"
   ]
  },
  {
   "cell_type": "markdown",
   "id": "87901f88",
   "metadata": {},
   "source": [
    "## Site Prediction and Validation\n",
    "\n",
    "With our trained model, we can now predict potential archaeological sites and validate them using multiple criteria."
   ]
  },
  {
   "cell_type": "code",
   "execution_count": null,
   "id": "e59b3837",
   "metadata": {},
   "outputs": [],
   "source": [
    "# Run predictions\n",
    "site_predictions = pipeline._run_model_predictions(processed_data)\n",
    "\n",
    "# Validate predictions\n",
    "validated_sites = pipeline._validate_predictions(site_predictions)\n",
    "\n",
    "print(f\"Found {len(validated_sites)} validated archaeological sites!\")"
   ]
  },
  {
   "cell_type": "markdown",
   "id": "59b0ebb6",
   "metadata": {},
   "source": [
    "## Visualization\n",
    "\n",
    "Finally, let's create interactive visualizations of our discoveries."
   ]
  },
  {
   "cell_type": "code",
   "execution_count": null,
   "id": "b88dd5e9",
   "metadata": {},
   "outputs": [],
   "source": [
    "# Create visualizations\n",
    "visualizations = pipeline._create_visualizations(\n",
    "    validated_sites,\n",
    "    processed_data,\n",
    "    historical_data\n",
    ")\n",
    "\n",
    "# Display Kepler.gl map\n",
    "display(visualizations['kepler_map'])\n",
    "\n",
    "# Save results\n",
    "pipeline._save_results(validated_sites, visualizations)"
   ]
  }
 ],
 "metadata": {
  "language_info": {
   "name": "python"
  }
 },
 "nbformat": 4,
 "nbformat_minor": 5
}
